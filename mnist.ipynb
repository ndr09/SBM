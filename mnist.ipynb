{
 "cells": [
  {
   "cell_type": "code",
   "execution_count": 1,
   "metadata": {},
   "outputs": [
    {
     "data": {
      "text/plain": [
       "<torch._C.Generator at 0x10ed2f4d0>"
      ]
     },
     "execution_count": 1,
     "metadata": {},
     "output_type": "execute_result"
    }
   ],
   "source": [
    "import torch\n",
    "from torchvision import datasets, transforms\n",
    "from utility.HebbianNetwork import HebbianNetwork\n",
    "import matplotlib.pyplot as plt\n",
    "import numpy as np\n",
    "import pickle\n",
    "\n",
    "# set seed for reproducibility\n",
    "torch.manual_seed(42)"
   ]
  },
  {
   "cell_type": "code",
   "execution_count": 2,
   "metadata": {},
   "outputs": [],
   "source": [
    "# Define the transformation to apply to the data\n",
    "transform = transforms.Compose([\n",
    "    transforms.ToTensor(),\n",
    "    transforms.Normalize((0.1307,), (0.3081,))\n",
    "])\n",
    "\n",
    "# Download and load the MNIST training dataset\n",
    "trn_dataset = datasets.MNIST(root='./data', train=True, transform=transform, download=True)\n",
    "trn_loader = torch.utils.data.DataLoader(trn_dataset, batch_size=128, shuffle=True)\n",
    "\n",
    "# Split the training dataset into training and validation datasets\n",
    "train_size = int(0.8 * len(trn_dataset))\n",
    "val_size = len(trn_dataset) - train_size\n",
    "train_dataset, val_dataset = torch.utils.data.random_split(trn_dataset, [train_size, val_size])\n",
    "train_loader = torch.utils.data.DataLoader(train_dataset, batch_size=128, shuffle=True)\n",
    "val_loader = torch.utils.data.DataLoader(val_dataset, batch_size=128, shuffle=True)\n",
    "\n",
    "\n",
    "# Download and load the MNIST test dataset\n",
    "test_dataset = datasets.MNIST(root='./data', train=False, transform=transform, download=True)\n",
    "test_loader = torch.utils.data.DataLoader(test_dataset, batch_size=128, shuffle=False)\n"
   ]
  },
  {
   "cell_type": "code",
   "execution_count": 3,
   "metadata": {},
   "outputs": [
    {
     "name": "stdout",
     "output_type": "stream",
     "text": [
      "Number of training samples: 48000\n",
      "Number of test samples: 10000\n"
     ]
    }
   ],
   "source": [
    "# Print the number of samples in the training and test datasets\n",
    "print(f\"Number of training samples: {len(train_dataset)}\")\n",
    "print(f\"Number of test samples: {len(test_dataset)}\")\n",
    "\n",
    "device = \"cuda\" if torch.cuda.is_available() else \"mps\" if torch.backends.mps.is_available() else \"cpu\"\n",
    "model = HebbianNetwork([784, 500, 10], device=device, init=\"uni\")\n",
    "loss_fn = torch.nn.CrossEntropyLoss()\n",
    "optimizer = torch.optim.AdamW(model.parameters(), lr=0.001, weight_decay=0.000001)"
   ]
  },
  {
   "cell_type": "code",
   "execution_count": 4,
   "metadata": {},
   "outputs": [
    {
     "name": "stdout",
     "output_type": "stream",
     "text": [
      "Total number of parameters to train: 5684\n",
      "Total number of weights: 397000\n"
     ]
    }
   ],
   "source": [
    "params = list(model.parameters())\n",
    "tot_numel = 0\n",
    "for p in params:\n",
    "    tot_numel += p.numel()\n",
    "\n",
    "print(f\"Total number of parameters to train: {tot_numel}\")\n",
    "\n",
    "print(\"Total number of weights: {}\".format(784*500 + 500*10))\n"
   ]
  },
  {
   "cell_type": "code",
   "execution_count": 5,
   "metadata": {},
   "outputs": [
    {
     "name": "stderr",
     "output_type": "stream",
     "text": [
      "Training:   0%|          | 0/50 [00:00<?, ?epoch/s]"
     ]
    },
    {
     "name": "stderr",
     "output_type": "stream",
     "text": [
      "Training:   8%|▊         | 4/50 [00:53<10:15, 13.39s/epoch, Train Loss=1.94, Val Loss=1.67, Train Accuracy=0.195, Val Accuracy=0.284]"
     ]
    }
   ],
   "source": [
    "train_loss, val_loss, test_loss, train_accuracy, val_accuracy, test_accuracy = model.train_loop(\n",
    "    optimizer, loss_fn, train_loader, val_loader, test_loader, epochs=50\n",
    ")\n",
    "\n",
    "print(f\"Validation loss: {val_loss[-10:]}\")\n",
    "print(f\"Validation accuracy: {val_accuracy[-10:]}\")\n",
    "print(f\"Test loss: {np.mean(test_loss)}\")\n",
    "print(f\"Test accuracy: {np.mean(test_accuracy)}\")\n",
    "\n",
    "plt.plot(train_loss, label=\"Train\")\n",
    "plt.plot(val_loss, label=\"Validation\")\n",
    "plt.xlabel(\"Epoch\")\n",
    "plt.ylabel(\"Loss\")\n",
    "plt.legend()\n",
    "# save the plot\n",
    "plt.show()\n",
    "\n",
    "# clear the plot\n",
    "plt.clf()\n",
    "\n",
    "plt.plot(train_accuracy, label=\"Train\")\n",
    "plt.plot(val_accuracy, label=\"Validation\")\n",
    "plt.xlabel(\"Epoch\")\n",
    "plt.ylabel(\"Accuracy\")\n",
    "plt.legend()\n",
    "plt.show()"
   ]
  },
  {
   "cell_type": "code",
   "execution_count": null,
   "metadata": {},
   "outputs": [
    {
     "name": "stderr",
     "output_type": "stream",
     "text": [
      "Training weights: 100%|██████████| 1/1 [00:08<00:00,  8.61s/epoch, Train Loss=1.34]\n"
     ]
    },
    {
     "name": "stdout",
     "output_type": "stream",
     "text": [
      "Test loss: 1.528238391574425\n",
      "Test accuracy: 0.7052017405063291\n"
     ]
    },
    {
     "data": {
      "image/png": "[encoded data removed]",
      "text/plain": [
       "<Figure size 640x480 with 1 Axes>"
      ]
     },
     "metadata": {},
     "output_type": "display_data"
    }
   ],
   "source": [
    "train_loss, test_loss, test_accuracy = model.train_weights(loss_fn, trn_loader, test_loader, epochs=1)\n",
    "\n",
    "print(f\"Test loss: {np.mean(test_loss)}\")\n",
    "print(f\"Test accuracy: {np.mean(test_accuracy)}\")\n",
    "\n",
    "plt.plot(train_loss, label=\"Train\")\n",
    "plt.xlabel(\"Epoch\")\n",
    "plt.ylabel(\"Loss\")\n",
    "plt.legend()\n",
    "plt.show()"
   ]
  }
 ],
 "metadata": {
  "kernelspec": {
   "display_name": "Python 3",
   "language": "python",
   "name": "python3"
  },
  "language_info": {
   "codemirror_mode": {
    "name": "ipython",
    "version": 3
   },
   "file_extension": ".py",
   "mimetype": "text/x-python",
   "name": "python",
   "nbconvert_exporter": "python",
   "pygments_lexer": "ipython3",
   "version": "3.9.6"
  }
 },
 "nbformat": 4,
 "nbformat_minor": 2
}
